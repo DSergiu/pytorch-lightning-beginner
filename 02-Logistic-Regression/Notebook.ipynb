{
 "cells": [
  {
   "cell_type": "markdown",
   "metadata": {},
   "source": [
    "# Logistic Regression Model\n",
    "\n",
    "## Train for 20 epochs\n",
    "\n",
    "Observe the loss decreasing while training."
   ]
  },
  {
   "cell_type": "code",
   "execution_count": 4,
   "metadata": {
    "scrolled": true
   },
   "outputs": [
    {
     "name": "stdout",
     "output_type": "stream",
     "text": [
      "GPU available: False, used: False\n",
      "TPU available: False, using: 0 TPU cores\n",
      "\n",
      "  | Name | Type       | Params | In sizes    | Out sizes\n",
      "--------------------------------------------------------------\n",
      "0 | seq  | Sequential | 7 K    | [1, 1, 784] | [1, 10]  \n",
      "Epoch 0:  83%|█████████▏ | 782/939 [00:08<00:01, 88.13it/s, loss=0.676, v_num=0]\n",
      "Validating: 0it [00:00, ?it/s]\u001b[A\n",
      "Epoch 0:  87%|█████████▌ | 816/939 [00:11<00:01, 73.22it/s, loss=0.676, v_num=0]\u001b[A\n",
      "Epoch 0:  93%|██████████▏| 873/939 [00:11<00:00, 77.60it/s, loss=0.676, v_num=0]\u001b[A\n",
      "Epoch 0: 100%|█| 939/939 [00:11<00:00, 79.83it/s, loss=0.676, v_num=0, val_loss=\u001b[A\n",
      "Epoch 1:  83%|▊| 782/939 [00:08<00:01, 87.24it/s, loss=0.533, v_num=0, val_loss=\u001b[A\n",
      "Validating: 0it [00:00, ?it/s]\u001b[A\n",
      "Epoch 1:  85%|▊| 798/939 [00:11<00:01, 72.19it/s, loss=0.533, v_num=0, val_loss=\u001b[A\n",
      "Epoch 1:  91%|▉| 855/939 [00:11<00:01, 76.56it/s, loss=0.533, v_num=0, val_loss=\u001b[A\n",
      "Epoch 1: 100%|█| 939/939 [00:11<00:00, 80.04it/s, loss=0.533, v_num=0, val_loss=\u001b[A\n",
      "Epoch 2:  83%|▊| 782/939 [00:09<00:01, 84.51it/s, loss=0.548, v_num=0, val_loss=\u001b[A\n",
      "Validating: 0it [00:00, ?it/s]\u001b[A\n",
      "Epoch 2:  85%|▊| 798/939 [00:11<00:02, 70.00it/s, loss=0.548, v_num=0, val_loss=\u001b[A\n",
      "Epoch 2:  91%|▉| 855/939 [00:11<00:01, 74.28it/s, loss=0.548, v_num=0, val_loss=\u001b[A\n",
      "Epoch 2: 100%|█| 939/939 [00:12<00:00, 77.81it/s, loss=0.548, v_num=0, val_loss=\u001b[A\n",
      "Epoch 3:  83%|▊| 782/939 [00:09<00:01, 83.56it/s, loss=0.442, v_num=0, val_loss=\u001b[A\n",
      "Validating: 0it [00:00, ?it/s]\u001b[A\n",
      "Epoch 3:  85%|▊| 798/939 [00:11<00:02, 69.60it/s, loss=0.442, v_num=0, val_loss=\u001b[A\n",
      "Epoch 3:  91%|▉| 855/939 [00:11<00:01, 73.86it/s, loss=0.442, v_num=0, val_loss=\u001b[A\n",
      "Epoch 3:  97%|▉| 912/939 [00:11<00:00, 77.94it/s, loss=0.442, v_num=0, val_loss=\u001b[A\n",
      "Epoch 3: 100%|█| 939/939 [00:12<00:00, 77.25it/s, loss=0.442, v_num=0, val_loss=\u001b[A\n",
      "Epoch 4:  83%|▊| 782/939 [00:08<00:01, 89.32it/s, loss=0.374, v_num=0, val_loss=\u001b[A\n",
      "Validating: 0it [00:00, ?it/s]\u001b[A\n",
      "Epoch 4:  85%|▊| 798/939 [00:10<00:01, 73.92it/s, loss=0.374, v_num=0, val_loss=\u001b[A\n",
      "Epoch 4:  91%|▉| 855/939 [00:10<00:01, 78.37it/s, loss=0.374, v_num=0, val_loss=\u001b[A\n",
      "Epoch 4: 100%|█| 939/939 [00:11<00:00, 82.06it/s, loss=0.374, v_num=0, val_loss=\u001b[A\n",
      "Epoch 5:  83%|▊| 782/939 [00:08<00:01, 90.63it/s, loss=0.423, v_num=0, val_loss=\u001b[A\n",
      "Validating: 0it [00:00, ?it/s]\u001b[A\n",
      "Epoch 5:  85%|▊| 798/939 [00:10<00:01, 74.44it/s, loss=0.423, v_num=0, val_loss=\u001b[A\n",
      "Epoch 5:  91%|▉| 855/939 [00:10<00:01, 78.91it/s, loss=0.423, v_num=0, val_loss=\u001b[A\n",
      "Epoch 5: 100%|█| 939/939 [00:11<00:00, 82.39it/s, loss=0.423, v_num=0, val_loss=\u001b[A\n",
      "Epoch 6:  83%|▊| 782/939 [00:08<00:01, 89.63it/s, loss=0.352, v_num=0, val_loss=\u001b[A\n",
      "Validating: 0it [00:00, ?it/s]\u001b[A\n",
      "Epoch 6:  85%|▊| 798/939 [00:10<00:01, 74.28it/s, loss=0.352, v_num=0, val_loss=\u001b[A\n",
      "Epoch 6:  91%|▉| 855/939 [00:10<00:01, 78.77it/s, loss=0.352, v_num=0, val_loss=\u001b[A\n",
      "Epoch 6: 100%|█| 939/939 [00:11<00:00, 82.40it/s, loss=0.352, v_num=0, val_loss=\u001b[A\n",
      "Epoch 7:  83%|▊| 782/939 [00:08<00:01, 89.79it/s, loss=0.384, v_num=0, val_loss=\u001b[A\n",
      "Validating: 0it [00:00, ?it/s]\u001b[A\n",
      "Epoch 7:  85%|▊| 798/939 [00:10<00:01, 74.23it/s, loss=0.384, v_num=0, val_loss=\u001b[A\n",
      "Epoch 7:  91%|▉| 855/939 [00:10<00:01, 78.70it/s, loss=0.384, v_num=0, val_loss=\u001b[A\n",
      "Epoch 7: 100%|█| 939/939 [00:11<00:00, 82.30it/s, loss=0.384, v_num=0, val_loss=\u001b[A\n",
      "Epoch 8:  83%|▊| 782/939 [00:08<00:01, 90.32it/s, loss=0.363, v_num=0, val_loss=\u001b[A\n",
      "Validating: 0it [00:00, ?it/s]\u001b[A\n",
      "Epoch 8:  85%|▊| 798/939 [00:10<00:01, 74.63it/s, loss=0.363, v_num=0, val_loss=\u001b[A\n",
      "Epoch 8:  91%|▉| 855/939 [00:10<00:01, 79.11it/s, loss=0.363, v_num=0, val_loss=\u001b[A\n",
      "Epoch 8: 100%|█| 939/939 [00:11<00:00, 82.74it/s, loss=0.363, v_num=0, val_loss=\u001b[A\n",
      "Epoch 9:  83%|▊| 782/939 [00:08<00:01, 89.87it/s, loss=0.329, v_num=0, val_loss=\u001b[A\n",
      "Validating: 0it [00:00, ?it/s]\u001b[A\n",
      "Epoch 9:  85%|▊| 798/939 [00:10<00:01, 74.23it/s, loss=0.329, v_num=0, val_loss=\u001b[A\n",
      "Epoch 9:  91%|▉| 855/939 [00:10<00:01, 78.68it/s, loss=0.329, v_num=0, val_loss=\u001b[A\n",
      "Epoch 9: 100%|█| 939/939 [00:11<00:00, 82.26it/s, loss=0.329, v_num=0, val_loss=\u001b[A\n",
      "Epoch 10:  83%|▊| 782/939 [00:08<00:01, 90.64it/s, loss=0.359, v_num=0, val_loss\u001b[A\n",
      "Validating: 0it [00:00, ?it/s]\u001b[A\n",
      "Epoch 10:  85%|▊| 798/939 [00:10<00:01, 74.88it/s, loss=0.359, v_num=0, val_loss\u001b[A\n",
      "Epoch 10:  91%|▉| 855/939 [00:10<00:01, 79.40it/s, loss=0.359, v_num=0, val_loss\u001b[A\n",
      "Epoch 10: 100%|█| 939/939 [00:11<00:00, 83.02it/s, loss=0.359, v_num=0, val_loss\u001b[A\n",
      "Epoch 11:  83%|▊| 782/939 [00:08<00:01, 87.21it/s, loss=0.342, v_num=0, val_loss\u001b[A\n",
      "Validating: 0it [00:00, ?it/s]\u001b[A\n",
      "Epoch 11:  85%|▊| 798/939 [00:11<00:01, 71.44it/s, loss=0.342, v_num=0, val_loss\u001b[A\n",
      "Epoch 11:  91%|▉| 855/939 [00:11<00:01, 75.80it/s, loss=0.342, v_num=0, val_loss\u001b[A\n",
      "Epoch 11: 100%|█| 939/939 [00:11<00:00, 79.36it/s, loss=0.342, v_num=0, val_loss\u001b[A\n",
      "Epoch 12:  83%|▊| 782/939 [00:08<00:01, 90.02it/s, loss=0.311, v_num=0, val_loss\u001b[A\n",
      "Validating: 0it [00:00, ?it/s]\u001b[A\n",
      "Epoch 12:  85%|▊| 798/939 [00:10<00:01, 73.49it/s, loss=0.311, v_num=0, val_loss\u001b[A\n",
      "Epoch 12:  91%|▉| 855/939 [00:10<00:01, 77.91it/s, loss=0.311, v_num=0, val_loss\u001b[A\n",
      "Epoch 12: 100%|█| 939/939 [00:11<00:00, 81.57it/s, loss=0.311, v_num=0, val_loss\u001b[A\n",
      "Epoch 13:  83%|▊| 782/939 [00:08<00:01, 90.77it/s, loss=0.321, v_num=0, val_loss\u001b[A\n",
      "Validating: 0it [00:00, ?it/s]\u001b[A\n",
      "Epoch 13:  85%|▊| 798/939 [00:10<00:01, 75.02it/s, loss=0.321, v_num=0, val_loss\u001b[A\n",
      "Epoch 13:  91%|▉| 855/939 [00:10<00:01, 79.51it/s, loss=0.321, v_num=0, val_loss\u001b[A\n",
      "Epoch 13: 100%|█| 939/939 [00:11<00:00, 83.16it/s, loss=0.321, v_num=0, val_loss\u001b[A\n",
      "Epoch 14:  83%|▊| 782/939 [00:09<00:01, 86.14it/s, loss=0.310, v_num=0, val_loss\u001b[A\n",
      "Validating: 0it [00:00, ?it/s]\u001b[A\n",
      "Epoch 14:  85%|▊| 798/939 [00:11<00:01, 70.93it/s, loss=0.310, v_num=0, val_loss\u001b[A\n",
      "Epoch 14:  91%|▉| 855/939 [00:11<00:01, 75.22it/s, loss=0.310, v_num=0, val_loss\u001b[A\n",
      "Epoch 14: 100%|█| 939/939 [00:11<00:00, 78.87it/s, loss=0.310, v_num=0, val_loss\u001b[A\n",
      "Epoch 15:  83%|▊| 782/939 [00:08<00:01, 87.62it/s, loss=0.298, v_num=0, val_loss\u001b[A\n",
      "Validating: 0it [00:00, ?it/s]\u001b[A\n",
      "Epoch 15:  85%|▊| 798/939 [00:11<00:01, 72.50it/s, loss=0.298, v_num=0, val_loss\u001b[A\n",
      "Epoch 15:  91%|▉| 855/939 [00:11<00:01, 76.91it/s, loss=0.298, v_num=0, val_loss\u001b[A\n",
      "Epoch 15: 100%|█| 939/939 [00:11<00:00, 80.51it/s, loss=0.298, v_num=0, val_loss\u001b[A\n",
      "Epoch 16:  83%|▊| 782/939 [00:09<00:01, 85.56it/s, loss=0.318, v_num=0, val_loss\u001b[A\n",
      "Validating: 0it [00:00, ?it/s]\u001b[A\n",
      "Epoch 16:  85%|▊| 798/939 [00:11<00:01, 71.10it/s, loss=0.318, v_num=0, val_loss\u001b[A\n",
      "Epoch 16:  91%|▉| 855/939 [00:11<00:01, 75.45it/s, loss=0.318, v_num=0, val_loss\u001b[A\n",
      "Epoch 16: 100%|█| 939/939 [00:11<00:00, 78.98it/s, loss=0.318, v_num=0, val_loss\u001b[A\n",
      "Epoch 17:  83%|▊| 782/939 [00:08<00:01, 87.93it/s, loss=0.321, v_num=0, val_loss\u001b[A\n",
      "Validating: 0it [00:00, ?it/s]\u001b[A\n",
      "Epoch 17:  85%|▊| 798/939 [00:10<00:01, 72.75it/s, loss=0.321, v_num=0, val_loss\u001b[A\n",
      "Epoch 17:  91%|▉| 855/939 [00:11<00:01, 77.18it/s, loss=0.321, v_num=0, val_loss\u001b[A\n",
      "Epoch 17: 100%|█| 939/939 [00:11<00:00, 80.74it/s, loss=0.321, v_num=0, val_loss\u001b[A\n",
      "Epoch 18:  83%|▊| 782/939 [00:08<00:01, 89.00it/s, loss=0.352, v_num=0, val_loss\u001b[A\n",
      "Validating: 0it [00:00, ?it/s]\u001b[A\n",
      "Epoch 18:  85%|▊| 798/939 [00:10<00:01, 73.13it/s, loss=0.352, v_num=0, val_loss\u001b[A\n",
      "Epoch 18:  91%|▉| 855/939 [00:11<00:01, 77.53it/s, loss=0.352, v_num=0, val_loss\u001b[A\n",
      "Epoch 18: 100%|█| 939/939 [00:11<00:00, 81.13it/s, loss=0.352, v_num=0, val_loss\u001b[A\n",
      "Epoch 19:  83%|▊| 782/939 [00:09<00:01, 84.92it/s, loss=0.315, v_num=0, val_loss\u001b[A\n",
      "Validating: 0it [00:00, ?it/s]\u001b[A\n",
      "Epoch 19:  85%|▊| 798/939 [00:11<00:02, 69.67it/s, loss=0.315, v_num=0, val_loss\u001b[A\n",
      "Epoch 19:  91%|▉| 855/939 [00:11<00:01, 73.88it/s, loss=0.315, v_num=0, val_loss\u001b[A\n",
      "Epoch 19: 100%|█| 939/939 [00:12<00:00, 77.41it/s, loss=0.315, v_num=0, val_loss\u001b[A\n",
      "                                                                                \u001b[ASaving latest checkpoint..\n",
      "Epoch 19: 100%|█| 939/939 [00:12<00:00, 76.88it/s, loss=0.315, v_num=0, val_loss\n",
      "Testing:  67%|█████████████████████▍          | 105/157 [00:02<01:07,  1.30s/it]--------------------------------------------------------------------------------\n",
      "DATALOADER:0 TEST RESULTS\n",
      "{'test_acc': tensor(0.9148), 'test_loss': tensor(0.3107)}\n",
      "--------------------------------------------------------------------------------\n",
      "Testing: 100%|████████████████████████████████| 157/157 [00:03<00:00, 46.85it/s]\n"
     ]
    }
   ],
   "source": [
    "!python3 LogisticRegression.py --max_epochs=20"
   ]
  },
  {
   "cell_type": "markdown",
   "metadata": {},
   "source": [
    "## Inspect logs\n",
    "⚠️ Make sure to **Stop** the cell execution after observing the logs\n",
    "\n",
    "This simple logistic regression achieves **90% accuracy** on the MNIST test data set."
   ]
  },
  {
   "cell_type": "code",
   "execution_count": 5,
   "metadata": {},
   "outputs": [
    {
     "name": "stdout",
     "output_type": "stream",
     "text": [
      "W0909 14:38:13.390138 123145347186688 plugin_event_accumulator.py:321] Found more than one graph event per run, or there was a metagraph containing a graph_def, as well as one or more graph events.  Overwriting the graph with the newest event.\n",
      "W0909 14:38:13.393561 123145347186688 plugin_event_accumulator.py:359] Found more than one \"run metadata\" event with tag step1. Overwriting it with the newest event.\n",
      "Serving TensorBoard on localhost; to expose to the network, use a proxy or pass --bind_all\n",
      "TensorBoard 2.2.0 at http://localhost:6006/ (Press CTRL+C to quit)\n",
      "^C\n"
     ]
    }
   ],
   "source": [
    "!tensorboard --logdir=./lightning_logs"
   ]
  },
  {
   "cell_type": "markdown",
   "metadata": {},
   "source": [
    "## Load trained model\n",
    "Checkpoints are saved incrementally for each training session under `./lightning_logs/version_X`."
   ]
  },
  {
   "cell_type": "code",
   "execution_count": 9,
   "metadata": {},
   "outputs": [
    {
     "name": "stdout",
     "output_type": "stream",
     "text": [
      "LogisticRegression(\n",
      "  (seq): Sequential(\n",
      "    (0): Flatten()\n",
      "    (1): Linear(in_features=784, out_features=10, bias=True)\n",
      "  )\n",
      ")\n"
     ]
    }
   ],
   "source": [
    "__import__(\"sys\").path.append(\"..\")\n",
    "import utils\n",
    "\n",
    "from LogisticRegression import LogisticRegression\n",
    "\n",
    "\n",
    "model = utils.load_trained_model_for_evaluation(LogisticRegression, 0)\n",
    "print(model)"
   ]
  },
  {
   "cell_type": "markdown",
   "metadata": {},
   "source": [
    "## Predict MNIST labels"
   ]
  },
  {
   "cell_type": "code",
   "execution_count": 34,
   "metadata": {
    "scrolled": true
   },
   "outputs": [
    {
     "name": "stdout",
     "output_type": "stream",
     "text": [
      "Original label:  0 Predicted label:  0\n"
     ]
    },
    {
     "data": {
      "image/png": "[encoded data removed]",
      "text/plain": [
       "<Figure size 432x288 with 1 Axes>"
      ]
     },
     "metadata": {
      "needs_background": "light"
     },
     "output_type": "display_data"
    },
    {
     "name": "stdout",
     "output_type": "stream",
     "text": [
      "Original label:  3 Predicted label:  3\n"
     ]
    },
    {
     "data": {
      "image/png": "[encoded data removed]",
      "text/plain": [
       "<Figure size 432x288 with 1 Axes>"
      ]
     },
     "metadata": {
      "needs_background": "light"
     },
     "output_type": "display_data"
    },
    {
     "name": "stdout",
     "output_type": "stream",
     "text": [
      "Original label:  1 Predicted label:  1\n"
     ]
    },
    {
     "data": {
      "image/png": "[encoded data removed]",
      "text/plain": [
       "<Figure size 432x288 with 1 Axes>"
      ]
     },
     "metadata": {
      "needs_background": "light"
     },
     "output_type": "display_data"
    },
    {
     "name": "stdout",
     "output_type": "stream",
     "text": [
      "Original label:  7 Predicted label:  7\n"
     ]
    },
    {
     "data": {
      "image/png": "[encoded data removed]",
      "text/plain": [
       "<Figure size 432x288 with 1 Axes>"
      ]
     },
     "metadata": {
      "needs_background": "light"
     },
     "output_type": "display_data"
    },
    {
     "name": "stdout",
     "output_type": "stream",
     "text": [
      "Original label:  9 Predicted label:  9\n"
     ]
    },
    {
     "data": {
      "image/png": "[encoded data removed]",
      "text/plain": [
       "<Figure size 432x288 with 1 Axes>"
      ]
     },
     "metadata": {
      "needs_background": "light"
     },
     "output_type": "display_data"
    },
    {
     "name": "stdout",
     "output_type": "stream",
     "text": [
      "Original label:  7 Predicted label:  7\n"
     ]
    },
    {
     "data": {
      "image/png": "[encoded data removed]",
      "text/plain": [
       "<Figure size 432x288 with 1 Axes>"
      ]
     },
     "metadata": {
      "needs_background": "light"
     },
     "output_type": "display_data"
    },
    {
     "name": "stdout",
     "output_type": "stream",
     "text": [
      "Original label:  8 Predicted label:  8\n"
     ]
    },
    {
     "data": {
      "image/png": "[encoded data removed]",
      "text/plain": [
       "<Figure size 432x288 with 1 Axes>"
      ]
     },
     "metadata": {
      "needs_background": "light"
     },
     "output_type": "display_data"
    },
    {
     "name": "stdout",
     "output_type": "stream",
     "text": [
      "Original label:  8 Predicted label:  8\n"
     ]
    },
    {
     "data": {
      "image/png": "[encoded data removed]",
      "text/plain": [
       "<Figure size 432x288 with 1 Axes>"
      ]
     },
     "metadata": {
      "needs_background": "light"
     },
     "output_type": "display_data"
    },
    {
     "name": "stdout",
     "output_type": "stream",
     "text": [
      "Original label:  8 Predicted label:  8\n"
     ]
    },
    {
     "data": {
      "image/png": "[encoded data removed]",
      "text/plain": [
       "<Figure size 432x288 with 1 Axes>"
      ]
     },
     "metadata": {
      "needs_background": "light"
     },
     "output_type": "display_data"
    },
    {
     "name": "stdout",
     "output_type": "stream",
     "text": [
      "Original label:  8 Predicted label:  8\n"
     ]
    },
    {
     "data": {
      "image/png": "[encoded data removed]",
      "text/plain": [
       "<Figure size 432x288 with 1 Axes>"
      ]
     },
     "metadata": {
      "needs_background": "light"
     },
     "output_type": "display_data"
    }
   ],
   "source": [
    "import torch\n",
    "import random\n",
    "\n",
    "test_len = model.mnist_test.data.shape[0]\n",
    "\n",
    "for i in range(0, 10):\n",
    "    orig_img, orig_label = model.mnist_test[random.randint(0, test_len)]\n",
    "    orig_img = orig_img.view(1, 1, 28, 28)\n",
    "    classes = model(orig_img)\n",
    "    predicted_label = torch.max(classes.data, 1).indices.item()\n",
    "\n",
    "    print(\"Original label: \", orig_label, \"Predicted label: \", predicted_label)\n",
    "    utils.plot_images([orig_img.view(28, 28)])"
   ]
  }
 ],
 "metadata": {
  "kernelspec": {
   "display_name": "Python 3",
   "language": "python",
   "name": "python3"
  },
  "language_info": {
   "codemirror_mode": {
    "name": "ipython",
    "version": 3
   },
   "file_extension": ".py",
   "mimetype": "text/x-python",
   "name": "python",
   "nbconvert_exporter": "python",
   "pygments_lexer": "ipython3",
   "version": "3.8.5"
  }
 },
 "nbformat": 4,
 "nbformat_minor": 4
}
