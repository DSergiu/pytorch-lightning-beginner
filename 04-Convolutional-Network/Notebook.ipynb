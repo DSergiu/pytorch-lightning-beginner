{
 "cells": [
  {
   "cell_type": "markdown",
   "metadata": {},
   "source": [
    "# Convolutional Network Model\n",
    "\n",
    "## Train for 5 epochs\n",
    "\n",
    "Observe the loss decreasing while training."
   ]
  },
  {
   "cell_type": "code",
   "execution_count": 2,
   "metadata": {
    "scrolled": true
   },
   "outputs": [
    {
     "name": "stdout",
     "output_type": "stream",
     "text": [
      "GPU available: False, used: False\n",
      "TPU available: False, using: 0 TPU cores\n",
      "\n",
      "  | Name | Type       | Params | In sizes       | Out sizes\n",
      "-----------------------------------------------------------------\n",
      "0 | seq  | Sequential | 13 K   | [1, 1, 28, 28] | [1, 10]  \n",
      "Epoch 0:  83%|█████████▏ | 782/939 [00:18<00:03, 42.32it/s, loss=0.048, v_num=0]\n",
      "Validating: 0it [00:00, ?it/s]\u001b[A\n",
      "Epoch 0:  84%|█████████▏ | 785/939 [00:20<00:04, 38.13it/s, loss=0.048, v_num=0]\u001b[A\n",
      "Epoch 0:  85%|█████████▍ | 802/939 [00:20<00:03, 38.77it/s, loss=0.048, v_num=0]\u001b[A\n",
      "Epoch 0:  87%|█████████▌ | 819/939 [00:20<00:03, 39.39it/s, loss=0.048, v_num=0]\u001b[A\n",
      "Epoch 0:  89%|█████████▊ | 836/939 [00:20<00:02, 40.00it/s, loss=0.048, v_num=0]\u001b[A\n",
      "Epoch 0:  91%|█████████▉ | 853/939 [00:21<00:02, 40.62it/s, loss=0.048, v_num=0]\u001b[A\n",
      "Epoch 0:  93%|██████████▏| 870/939 [00:21<00:01, 41.22it/s, loss=0.048, v_num=0]\u001b[A\n",
      "Epoch 0:  94%|██████████▍| 887/939 [00:21<00:01, 41.81it/s, loss=0.048, v_num=0]\u001b[A\n",
      "Epoch 0:  96%|██████████▌| 904/939 [00:21<00:00, 42.39it/s, loss=0.048, v_num=0]\u001b[A\n",
      "Epoch 0:  98%|██████████▊| 921/939 [00:21<00:00, 42.97it/s, loss=0.048, v_num=0]\u001b[A\n",
      "Epoch 0: 100%|█| 939/939 [00:21<00:00, 42.78it/s, loss=0.048, v_num=0, val_loss=\u001b[A\n",
      "Epoch 1:  83%|▊| 782/939 [00:18<00:03, 41.69it/s, loss=0.048, v_num=0, val_loss=\u001b[A\n",
      "Validating: 0it [00:00, ?it/s]\u001b[A\n",
      "Validating:   1%|▏                              | 1/157 [00:02<05:23,  2.08s/it]\u001b[A\n",
      "Epoch 1:  85%|▊| 799/939 [00:20<00:03, 38.17it/s, loss=0.048, v_num=0, val_loss=\u001b[A\n",
      "Epoch 1:  87%|▊| 816/939 [00:21<00:03, 38.78it/s, loss=0.048, v_num=0, val_loss=\u001b[A\n",
      "Epoch 1:  89%|▉| 833/939 [00:21<00:02, 39.39it/s, loss=0.048, v_num=0, val_loss=\u001b[A\n",
      "Epoch 1:  91%|▉| 850/939 [00:21<00:02, 40.00it/s, loss=0.048, v_num=0, val_loss=\u001b[A\n",
      "Epoch 1:  92%|▉| 867/939 [00:21<00:01, 40.60it/s, loss=0.048, v_num=0, val_loss=\u001b[A\n",
      "Epoch 1:  94%|▉| 884/939 [00:21<00:01, 41.19it/s, loss=0.048, v_num=0, val_loss=\u001b[A\n",
      "Epoch 1:  96%|▉| 901/939 [00:21<00:00, 41.77it/s, loss=0.048, v_num=0, val_loss=\u001b[A\n",
      "Epoch 1:  98%|▉| 918/939 [00:21<00:00, 42.35it/s, loss=0.048, v_num=0, val_loss=\u001b[A\n",
      "Epoch 1: 100%|█| 939/939 [00:22<00:00, 42.34it/s, loss=0.048, v_num=0, val_loss=\u001b[A\n",
      "Epoch 2:  83%|▊| 782/939 [00:18<00:03, 41.86it/s, loss=0.037, v_num=0, val_loss=\u001b[A\n",
      "Validating: 0it [00:00, ?it/s]\u001b[A\n",
      "Validating:   1%|▏                              | 1/157 [00:02<06:10,  2.37s/it]\u001b[A\n",
      "Epoch 2:  85%|▊| 799/939 [00:21<00:03, 37.69it/s, loss=0.037, v_num=0, val_loss=\u001b[A\n",
      "Epoch 2:  87%|▊| 816/939 [00:21<00:03, 38.21it/s, loss=0.037, v_num=0, val_loss=\u001b[A\n",
      "Validating:  22%|██████▋                       | 35/157 [00:02<01:39,  1.22it/s]\u001b[A\n",
      "Epoch 2:  89%|▉| 833/939 [00:21<00:02, 38.71it/s, loss=0.037, v_num=0, val_loss=\u001b[A\n",
      "Validating:  36%|██████████▉                   | 57/157 [00:02<00:40,  2.46it/s]\u001b[A\n",
      "Epoch 2:  91%|▉| 850/939 [00:21<00:02, 39.14it/s, loss=0.037, v_num=0, val_loss=\u001b[A\n",
      "Epoch 2:  92%|▉| 867/939 [00:21<00:01, 39.63it/s, loss=0.037, v_num=0, val_loss=\u001b[A\n",
      "Epoch 2:  94%|▉| 884/939 [00:22<00:01, 40.15it/s, loss=0.037, v_num=0, val_loss=\u001b[A\n",
      "Validating:  66%|███████████████████          | 103/157 [00:03<00:05,  9.54it/s]\u001b[A\n",
      "Epoch 2:  96%|▉| 901/939 [00:22<00:00, 40.67it/s, loss=0.037, v_num=0, val_loss=\u001b[A\n",
      "Epoch 2:  98%|▉| 918/939 [00:22<00:00, 41.19it/s, loss=0.037, v_num=0, val_loss=\u001b[A\n",
      "Epoch 2: 100%|█| 939/939 [00:22<00:00, 41.16it/s, loss=0.037, v_num=0, val_loss=\u001b[A\n",
      "Epoch 3:  83%|▊| 782/939 [00:21<00:04, 36.57it/s, loss=0.033, v_num=0, val_loss=\u001b[A\n",
      "Validating: 0it [00:00, ?it/s]\u001b[A\n",
      "Validating:   1%|▏                              | 1/157 [00:02<06:38,  2.56s/it]\u001b[A\n",
      "Epoch 3:  85%|▊| 799/939 [00:24<00:04, 33.21it/s, loss=0.033, v_num=0, val_loss=\u001b[A\n",
      "Epoch 3:  87%|▊| 816/939 [00:24<00:03, 33.75it/s, loss=0.033, v_num=0, val_loss=\u001b[A\n",
      "Epoch 3:  89%|▉| 833/939 [00:24<00:03, 34.27it/s, loss=0.033, v_num=0, val_loss=\u001b[A\n",
      "Epoch 3:  91%|▉| 850/939 [00:24<00:02, 34.78it/s, loss=0.033, v_num=0, val_loss=\u001b[A\n",
      "Validating:  45%|█████████████▌                | 71/157 [00:03<00:37,  2.29it/s]\u001b[A\n",
      "Epoch 3:  92%|▉| 867/939 [00:24<00:02, 35.30it/s, loss=0.033, v_num=0, val_loss=\u001b[A\n",
      "Epoch 3:  94%|▉| 884/939 [00:24<00:01, 35.79it/s, loss=0.033, v_num=0, val_loss=\u001b[A\n",
      "Epoch 3:  96%|▉| 901/939 [00:24<00:01, 36.28it/s, loss=0.033, v_num=0, val_loss=\u001b[A\n",
      "Epoch 3:  98%|▉| 918/939 [00:24<00:00, 36.76it/s, loss=0.033, v_num=0, val_loss=\u001b[A\n",
      "Validating:  87%|█████████████████████████▎   | 137/157 [00:03<00:01, 12.52it/s]\u001b[A\n",
      "Epoch 3: 100%|█| 939/939 [00:25<00:00, 36.76it/s, loss=0.033, v_num=0, val_loss=\u001b[A\n",
      "Epoch 4:  83%|▊| 782/939 [00:21<00:04, 36.88it/s, loss=0.059, v_num=0, val_loss=\u001b[A\n",
      "Validating: 0it [00:00, ?it/s]\u001b[A\n",
      "Validating:   1%|▏                              | 1/157 [00:02<06:15,  2.41s/it]\u001b[A\n",
      "Epoch 4:  85%|▊| 799/939 [00:23<00:04, 33.69it/s, loss=0.059, v_num=0, val_loss=\u001b[A\n",
      "Epoch 4:  87%|▊| 816/939 [00:23<00:03, 34.23it/s, loss=0.059, v_num=0, val_loss=\u001b[A\n",
      "Epoch 4:  89%|▉| 833/939 [00:23<00:03, 34.76it/s, loss=0.059, v_num=0, val_loss=\u001b[A\n",
      "Epoch 4:  91%|▉| 850/939 [00:24<00:02, 35.30it/s, loss=0.059, v_num=0, val_loss=\u001b[A\n",
      "Epoch 4:  92%|▉| 867/939 [00:24<00:02, 35.83it/s, loss=0.059, v_num=0, val_loss=\u001b[A\n",
      "Epoch 4:  94%|▉| 884/939 [00:24<00:01, 36.35it/s, loss=0.059, v_num=0, val_loss=\u001b[A\n",
      "Validating:  66%|███████████████████▏         | 104/157 [00:03<00:10,  4.89it/s]\u001b[A\n",
      "Epoch 4:  96%|▉| 901/939 [00:24<00:01, 36.86it/s, loss=0.059, v_num=0, val_loss=\u001b[A\n",
      "Epoch 4:  98%|▉| 918/939 [00:24<00:00, 37.38it/s, loss=0.059, v_num=0, val_loss=\u001b[A\n",
      "Epoch 4: 100%|█| 939/939 [00:25<00:00, 37.40it/s, loss=0.059, v_num=0, val_loss=\u001b[A\n",
      "                                                                                \u001b[ASaving latest checkpoint..\n",
      "Epoch 4: 100%|█| 939/939 [00:25<00:00, 37.27it/s, loss=0.059, v_num=0, val_loss=\n",
      "Testing:  97%|███████████████████████████████▏| 153/157 [00:03<00:00, 18.85it/s]--------------------------------------------------------------------------------\n",
      "DATALOADER:0 TEST RESULTS\n",
      "{'test_acc': tensor(0.9854), 'test_loss': tensor(0.0501)}\n",
      "--------------------------------------------------------------------------------\n",
      "Testing: 100%|████████████████████████████████| 157/157 [00:03<00:00, 40.32it/s]\n"
     ]
    }
   ],
   "source": [
    "!python3 ConvolutionalNetwork.py --max_epochs=5"
   ]
  },
  {
   "cell_type": "markdown",
   "metadata": {},
   "source": [
    "## Inspect logs\n",
    "⚠️ Make sure to **Stop** the cell execution after observing the logs\n",
    "\n",
    "After only **5 epochs**, the model achieves **98.5% accuracy** on the MNIST test data set.\n",
    "\n",
    "It performs better than the previous neural network model."
   ]
  },
  {
   "cell_type": "code",
   "execution_count": 4,
   "metadata": {},
   "outputs": [
    {
     "name": "stdout",
     "output_type": "stream",
     "text": [
      "W0909 18:13:02.800810 123145376571392 plugin_event_accumulator.py:321] Found more than one graph event per run, or there was a metagraph containing a graph_def, as well as one or more graph events.  Overwriting the graph with the newest event.\n",
      "W0909 18:13:02.802042 123145376571392 plugin_event_accumulator.py:359] Found more than one \"run metadata\" event with tag step1. Overwriting it with the newest event.\n",
      "Serving TensorBoard on localhost; to expose to the network, use a proxy or pass --bind_all\n",
      "TensorBoard 2.2.0 at http://localhost:6006/ (Press CTRL+C to quit)\n",
      "^C\n"
     ]
    }
   ],
   "source": [
    "!tensorboard --logdir=./lightning_logs"
   ]
  },
  {
   "cell_type": "markdown",
   "metadata": {},
   "source": [
    "## Load trained model\n",
    "Checkpoints are saved incrementally for each training session under `./lightning_logs/version_X`."
   ]
  },
  {
   "cell_type": "code",
   "execution_count": 6,
   "metadata": {},
   "outputs": [
    {
     "name": "stdout",
     "output_type": "stream",
     "text": [
      "ConvolutionalNetwork(\n",
      "  (seq): Sequential(\n",
      "    (0): Conv2d(1, 16, kernel_size=(5, 5), stride=(1, 1))\n",
      "    (1): MaxPool2d(kernel_size=2, stride=2, padding=0, dilation=1, ceil_mode=False)\n",
      "    (2): ReLU()\n",
      "    (3): Conv2d(16, 32, kernel_size=(3, 3), stride=(1, 1))\n",
      "    (4): MaxPool2d(kernel_size=2, stride=2, padding=0, dilation=1, ceil_mode=False)\n",
      "    (5): ReLU()\n",
      "    (6): Flatten()\n",
      "    (7): Linear(in_features=800, out_features=10, bias=True)\n",
      "    (8): LogSoftmax(dim=1)\n",
      "  )\n",
      ")\n"
     ]
    }
   ],
   "source": [
    "__import__(\"sys\").path.append(\"..\")\n",
    "import utils\n",
    "from ConvolutionalNetwork import ConvolutionalNetwork\n",
    "\n",
    "model = utils.load_trained_model_for_evaluation(ConvolutionalNetwork, 0)\n",
    "print(model)"
   ]
  },
  {
   "cell_type": "markdown",
   "metadata": {},
   "source": [
    "## Predict MNIST labels"
   ]
  },
  {
   "cell_type": "code",
   "execution_count": 7,
   "metadata": {
    "scrolled": false
   },
   "outputs": [
    {
     "name": "stdout",
     "output_type": "stream",
     "text": [
      "Original label:  7 Predicted label:  7\n"
     ]
    },
    {
     "data": {
      "image/png": "[encoded data removed]",
      "text/plain": [
       "<Figure size 432x288 with 1 Axes>"
      ]
     },
     "metadata": {
      "needs_background": "light"
     },
     "output_type": "display_data"
    },
    {
     "name": "stdout",
     "output_type": "stream",
     "text": [
      "Original label:  6 Predicted label:  6\n"
     ]
    },
    {
     "data": {
      "image/png": "[encoded data removed]",
      "text/plain": [
       "<Figure size 432x288 with 1 Axes>"
      ]
     },
     "metadata": {
      "needs_background": "light"
     },
     "output_type": "display_data"
    },
    {
     "name": "stdout",
     "output_type": "stream",
     "text": [
      "Original label:  1 Predicted label:  1\n"
     ]
    },
    {
     "data": {
      "image/png": "[encoded data removed]",
      "text/plain": [
       "<Figure size 432x288 with 1 Axes>"
      ]
     },
     "metadata": {
      "needs_background": "light"
     },
     "output_type": "display_data"
    },
    {
     "name": "stdout",
     "output_type": "stream",
     "text": [
      "Original label:  8 Predicted label:  8\n"
     ]
    },
    {
     "data": {
      "image/png": "[encoded data removed]",
      "text/plain": [
       "<Figure size 432x288 with 1 Axes>"
      ]
     },
     "metadata": {
      "needs_background": "light"
     },
     "output_type": "display_data"
    },
    {
     "name": "stdout",
     "output_type": "stream",
     "text": [
      "Original label:  1 Predicted label:  1\n"
     ]
    },
    {
     "data": {
      "image/png": "[encoded data removed]",
      "text/plain": [
       "<Figure size 432x288 with 1 Axes>"
      ]
     },
     "metadata": {
      "needs_background": "light"
     },
     "output_type": "display_data"
    },
    {
     "name": "stdout",
     "output_type": "stream",
     "text": [
      "Original label:  7 Predicted label:  7\n"
     ]
    },
    {
     "data": {
      "image/png": "[encoded data removed]",
      "text/plain": [
       "<Figure size 432x288 with 1 Axes>"
      ]
     },
     "metadata": {
      "needs_background": "light"
     },
     "output_type": "display_data"
    },
    {
     "name": "stdout",
     "output_type": "stream",
     "text": [
      "Original label:  1 Predicted label:  1\n"
     ]
    },
    {
     "data": {
      "image/png": "[encoded data removed]",
      "text/plain": [
       "<Figure size 432x288 with 1 Axes>"
      ]
     },
     "metadata": {
      "needs_background": "light"
     },
     "output_type": "display_data"
    },
    {
     "name": "stdout",
     "output_type": "stream",
     "text": [
      "Original label:  8 Predicted label:  8\n"
     ]
    },
    {
     "data": {
      "image/png": "[encoded data removed]",
      "text/plain": [
       "<Figure size 432x288 with 1 Axes>"
      ]
     },
     "metadata": {
      "needs_background": "light"
     },
     "output_type": "display_data"
    },
    {
     "name": "stdout",
     "output_type": "stream",
     "text": [
      "Original label:  2 Predicted label:  2\n"
     ]
    },
    {
     "data": {
      "image/png": "[encoded data removed]",
      "text/plain": [
       "<Figure size 432x288 with 1 Axes>"
      ]
     },
     "metadata": {
      "needs_background": "light"
     },
     "output_type": "display_data"
    },
    {
     "name": "stdout",
     "output_type": "stream",
     "text": [
      "Original label:  5 Predicted label:  5\n"
     ]
    },
    {
     "data": {
      "image/png": "[encoded data removed]",
      "text/plain": [
       "<Figure size 432x288 with 1 Axes>"
      ]
     },
     "metadata": {
      "needs_background": "light"
     },
     "output_type": "display_data"
    }
   ],
   "source": [
    "import torch\n",
    "import random\n",
    "\n",
    "test_len = model.mnist_test.data.shape[0]\n",
    "\n",
    "for i in range(0, 10):\n",
    "    orig_img, orig_label = model.mnist_test[random.randint(0, test_len)]\n",
    "    orig_img = orig_img.view(1, 1, 28, 28)\n",
    "    classes = model(orig_img)\n",
    "    predicted_label = torch.max(classes.data, 1).indices.item()\n",
    "\n",
    "    print(\"Original label: \", orig_label, \"Predicted label: \", predicted_label)\n",
    "    utils.plot_images([orig_img.view(28, 28)])"
   ]
  }
 ],
 "metadata": {
  "kernelspec": {
   "display_name": "Python 3",
   "language": "python",
   "name": "python3"
  },
  "language_info": {
   "codemirror_mode": {
    "name": "ipython",
    "version": 3
   },
   "file_extension": ".py",
   "mimetype": "text/x-python",
   "name": "python",
   "nbconvert_exporter": "python",
   "pygments_lexer": "ipython3",
   "version": "3.8.5"
  }
 },
 "nbformat": 4,
 "nbformat_minor": 4
}
